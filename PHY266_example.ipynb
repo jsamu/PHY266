{
 "cells": [
  {
   "cell_type": "code",
   "execution_count": 1,
   "metadata": {
    "collapsed": false
   },
   "outputs": [
    {
     "data": {
      "text/plain": [
       "' To execute a box in notebook, do Shift-Enter '"
      ]
     },
     "execution_count": 1,
     "metadata": {},
     "output_type": "execute_result"
    }
   ],
   "source": [
    "\"\"\"\n",
    "Load libraries.  The five libraries that I use most often are:\n",
    "  numpy\n",
    "  scipy\n",
    "  matplotlib (for plotting)\n",
    "  fits (in astropy.io)\n",
    "  ascii (in astropy.io - for reading tables)\n",
    "\"\"\"\n",
    "import numpy as np\n",
    "from matplotlib import pyplot as plt\n",
    "from astropy.io import fits as pf\n",
    "\n",
    "\"\"\" To execute a box in notebook, do Shift-Enter \"\"\""
   ]
  },
  {
   "cell_type": "code",
   "execution_count": 2,
   "metadata": {
    "collapsed": false
   },
   "outputs": [
    {
     "name": "stdout",
     "output_type": "stream",
     "text": [
      "[0 1 2 3 4]\n",
      "[ 7  8  9 10 11 12]\n",
      "[ 7  9 11 13 15 17 19]\n",
      "[  5.           5.24489796   5.48979592   5.73469388   5.97959184\n",
      "   6.2244898    6.46938776   6.71428571   6.95918367   7.20408163\n",
      "   7.44897959   7.69387755   7.93877551   8.18367347   8.42857143\n",
      "   8.67346939   8.91836735   9.16326531   9.40816327   9.65306122\n",
      "   9.89795918  10.14285714  10.3877551   10.63265306  10.87755102\n",
      "  11.12244898  11.36734694  11.6122449   11.85714286  12.10204082\n",
      "  12.34693878  12.59183673  12.83673469  13.08163265  13.32653061\n",
      "  13.57142857  13.81632653  14.06122449  14.30612245  14.55102041\n",
      "  14.79591837  15.04081633  15.28571429  15.53061224  15.7755102\n",
      "  16.02040816  16.26530612  16.51020408  16.75510204  17.        ]\n",
      "[  1.00000000e+05   1.75751062e+05   3.08884360e+05   5.42867544e+05\n",
      "   9.54095476e+05   1.67683294e+06   2.94705170e+06   5.17947468e+06\n",
      "   9.10298178e+06   1.59985872e+07   2.81176870e+07   4.94171336e+07\n",
      "   8.68511374e+07   1.52641797e+08   2.68269580e+08   4.71486636e+08\n",
      "   8.28642773e+08   1.45634848e+09   2.55954792e+09   4.49843267e+09\n",
      "   7.90604321e+09   1.38949549e+10   2.44205309e+10   4.29193426e+10\n",
      "   7.54312006e+10   1.32571137e+11   2.32995181e+11   4.09491506e+11\n",
      "   7.19685673e+11   1.26485522e+12   2.22299648e+12   3.90693994e+12\n",
      "   6.86648845e+12   1.20679264e+13   2.12095089e+13   3.72759372e+13\n",
      "   6.55128557e+13   1.15139540e+14   2.02358965e+14   3.55648031e+14\n",
      "   6.25055193e+14   1.09854114e+15   1.93069773e+15   3.39322177e+15\n",
      "   5.96362332e+15   1.04811313e+16   1.84206997e+16   3.23745754e+16\n",
      "   5.68986603e+16   1.00000000e+17]\n"
     ]
    }
   ],
   "source": [
    "\"\"\" \n",
    "Numpy has a lot of functionality in terms of array operations\n",
    "\"\"\"\n",
    "\n",
    "\"\"\" Define a vector with sequential numbers \"\"\"\n",
    "a = np.arange(5)\n",
    "b = np.arange(7,13)\n",
    "c = np.arange(7,21,2)\n",
    "print a\n",
    "print b\n",
    "print c\n",
    "\n",
    "\"\"\" There are other ways of doing this \"\"\"\n",
    "d = np.linspace(5,17)\n",
    "print d\n",
    "f = np.logspace(5,17)\n",
    "print f"
   ]
  },
  {
   "cell_type": "code",
   "execution_count": 3,
   "metadata": {
    "collapsed": false
   },
   "outputs": [
    {
     "name": "stdout",
     "output_type": "stream",
     "text": [
      "2.0\n",
      "1.41421356237\n",
      "2.0\n",
      "[ 17.  18.  19.  20.  21.]\n"
     ]
    }
   ],
   "source": [
    "\"\"\" \n",
    "More numpy functionality\n",
    "\"\"\"\n",
    "print a.mean()\n",
    "print a.std()\n",
    "print np.median(a)\n",
    "\n",
    "g = 17. + a\n",
    "print g"
   ]
  },
  {
   "cell_type": "code",
   "execution_count": 13,
   "metadata": {
    "collapsed": false
   },
   "outputs": [
    {
     "name": "stdout",
     "output_type": "stream",
     "text": [
      "308884.359648\n"
     ]
    }
   ],
   "source": [
    "\"\"\" Get the third member of f (remember that python is zero-indexed)\"\"\"\n",
    "print f[2]\n"
   ]
  },
  {
   "cell_type": "code",
   "execution_count": 7,
   "metadata": {
    "collapsed": false
   },
   "outputs": [
    {
     "name": "stdout",
     "output_type": "stream",
     "text": [
      "[False False False  True  True]\n",
      "[ 20.  21.]\n",
      "\n",
      "[False False False False False False False False False False False False\n",
      " False  True  True  True  True  True  True  True  True False False False\n",
      " False False False False False False False False False False False False\n",
      " False False False False False False False False False False False False\n",
      " False False]\n",
      "[  1.52641797e+08   2.68269580e+08   4.71486636e+08   8.28642773e+08\n",
      "   1.45634848e+09   2.55954792e+09   4.49843267e+09   7.90604321e+09]\n",
      "\n",
      "[ 20.  21.]\n"
     ]
    }
   ],
   "source": [
    "\"\"\"\n",
    "You can easily mask -- i.e., select just certain values of a numpy array\n",
    "\"\"\"\n",
    "\n",
    "mask = g>= 20.\n",
    "print mask\n",
    "h = g[mask]\n",
    "print h\n",
    "\n",
    "\"\"\" Here's how you do two conditions - put your conditions in parentheses \"\"\"\n",
    "mask2 = (f>1.0e8) & (f<1.0e10)\n",
    "print ''\n",
    "print mask2\n",
    "k = f[mask2]\n",
    "print k\n",
    "\n",
    "\"\"\" You can be fancy like this\"\"\"\n",
    "print ''\n",
    "m = g[g>=20.]\n",
    "print m\n"
   ]
  },
  {
   "cell_type": "code",
   "execution_count": 22,
   "metadata": {
    "collapsed": false
   },
   "outputs": [
    {
     "name": "stdout",
     "output_type": "stream",
     "text": [
      "<class 'astropy.io.fits.hdu.hdulist.HDUList'>\n",
      "\n",
      "Filename: MyData/J1248_nirc2_n_Kp_6x6.fits\n",
      "No.    Name         Type      Cards   Dimensions   Format\n",
      "0    PRIMARY     PrimaryHDU     463   (600, 600)   float32   \n",
      "\n",
      "3600.0\n"
     ]
    }
   ],
   "source": [
    "\"\"\"\n",
    "Reading in fits files\n",
    "Fits files are composed of at least one component.  The components are called HDUs (header data units)\n",
    "HDUs will always have a header of some kind, and may or may not have data.\n",
    "The data in a HDU is a numpy array\n",
    "\"\"\"\n",
    "\n",
    "\"\"\"Start by defining a data directory \"\"\"\n",
    "datadir = 'MyData'\n",
    "infile = 'J1248_nirc2_n_Kp_6x6.fits'\n",
    "\n",
    "\"\"\" Read in the fits file.  The first step creates a HDUList \"\"\"\n",
    "hdu = pf.open('%s/%s' %(datadir,infile))\n",
    "print type(hdu)\n",
    "print ''\n",
    "hdu.info()\n",
    "\n",
    "\"\"\" Print the header information \"\"\"\n",
    "hdr = hdu[0].header\n",
    "hdr\n",
    "print ''\n",
    "print hdr['exptime']"
   ]
  },
  {
   "cell_type": "code",
   "execution_count": 25,
   "metadata": {
    "collapsed": false
   },
   "outputs": [
    {
     "name": "stdout",
     "output_type": "stream",
     "text": [
      "(600, 600)\n",
      "-0.356425 16.5866 0.15196\n",
      "<type 'numpy.ndarray'>\n"
     ]
    }
   ],
   "source": [
    "data = hdu[0].data\n",
    "print data.shape\n",
    "print data.min(),data.max(),data.mean()\n",
    "print type(data)"
   ]
  },
  {
   "cell_type": "code",
   "execution_count": 28,
   "metadata": {
    "collapsed": false
   },
   "outputs": [
    {
     "data": {
      "text/plain": [
       "<matplotlib.image.AxesImage at 0x11560bfd0>"
      ]
     },
     "execution_count": 28,
     "metadata": {},
     "output_type": "execute_result"
    }
   ],
   "source": [
    "vmin = np.median(data) - data.std()\n",
    "vmax = np.median(data) + 10.*data.std()\n",
    "plt.imshow(data,origin='lower',vmin=vmin,vmax=vmax)"
   ]
  },
  {
   "cell_type": "code",
   "execution_count": null,
   "metadata": {
    "collapsed": true
   },
   "outputs": [],
   "source": []
  }
 ],
 "metadata": {
  "kernelspec": {
   "display_name": "Python [Root]",
   "language": "python",
   "name": "Python [Root]"
  },
  "language_info": {
   "codemirror_mode": {
    "name": "ipython",
    "version": 2
   },
   "file_extension": ".py",
   "mimetype": "text/x-python",
   "name": "python",
   "nbconvert_exporter": "python",
   "pygments_lexer": "ipython2",
   "version": "2.7.12"
  }
 },
 "nbformat": 4,
 "nbformat_minor": 0
}
