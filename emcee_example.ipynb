{
 "cells": [
  {
   "cell_type": "markdown",
   "metadata": {},
   "source": [
    "### An example of using the emcee package for MCMC"
   ]
  },
  {
   "cell_type": "markdown",
   "metadata": {},
   "source": [
    "This is really a ridiculous use of emcee, but the purpose of this example is to show the\n",
    "mechanics of the package.  Clearly any simple fitting of a polynomial to a data set where\n",
    "you can believe the measurement errors should be done via other much more appropriate\n",
    "approaches.\n",
    "\n",
    "That being said, the example is below.  Going through the whole thing will show you\n",
    "not just a use of emcee but, nearly at the end, how to turn a MCMC chain into a nice corner\n",
    "plot.\n",
    "\n",
    "To run the code, you will first need to download and install both the emcee and corner.py packages.\n",
    "  * emcee can be found at http://dan.iel.fm/emcee/current/\n",
    "  * corner.py can be found at http://corner.readthedocs.io/en/latest/index.html"
   ]
  },
  {
   "cell_type": "code",
   "execution_count": 1,
   "metadata": {
    "collapsed": true
   },
   "outputs": [],
   "source": [
    "\"\"\" Import necessary packages, including emcee \"\"\"\n",
    "import numpy as np\n",
    "from matplotlib import pyplot as plt\n",
    "%matplotlib inline\n",
    "from astropy.io import ascii\n",
    "from math import log\n",
    "import emcee\n",
    "import corner # For making a nice plot at the end"
   ]
  },
  {
   "cell_type": "code",
   "execution_count": 2,
   "metadata": {
    "collapsed": true
   },
   "outputs": [],
   "source": [
    "\"\"\" Set up the path to your data.  Change as needed \"\"\"\n",
    "datadir = 'Data'"
   ]
  },
  {
   "cell_type": "markdown",
   "metadata": {},
   "source": [
    "**NOTE** emcee requires at least one function that will evaluate a model and return a\n",
    "probability.  You will for sure need a function that returns the likelihood of a given\n",
    "model, and you should also have functions for the priors and the posterior.  You can\n",
    "probably combine these all into one function, but I may be missing something.\n",
    "\n",
    "**Important** All of these functions must have as their first input the array that\n",
    "contains the parameters that are being varied in the fit.  Other things that are \n",
    "important, such as x, y, and yerr, come after that."
   ]
  },
  {
   "cell_type": "code",
   "execution_count": 3,
   "metadata": {
    "collapsed": true
   },
   "outputs": [],
   "source": [
    "\"\"\"\n",
    "Set up the likelihood function.  Inputs are the parameter vector, and then x, y, and yerr. \n",
    "\"\"\"\n",
    "\n",
    "def lnlikelihood(pars, x, y, yerr):\n",
    "    \"\"\" \n",
    "    Takes the current values of the parameters (pars), plus the data (x, y, yerr) and returns\n",
    "    ln(likelihood) for the current parameter values\n",
    "    \"\"\"\n",
    "    y_model = pars[0] + pars[1]*x\n",
    "    lnl = -(y -y_model)**2/yerr**2\n",
    "    return lnl.sum()\n"
   ]
  },
  {
   "cell_type": "code",
   "execution_count": 4,
   "metadata": {
    "collapsed": true
   },
   "outputs": [],
   "source": [
    "\"\"\"\n",
    "Set up the priors.  These can be really uninformative, but if you have some idea of what\n",
    "the \"correct\" answer is, you can put in a more restrictive prior.\n",
    "For this example, we will put in really broad uniform priors, even though we know what the\n",
    "\"right\" answer is\n",
    "\n",
    "So, we will put the following priors\n",
    "   a_0:  -20 to +20\n",
    "   a_1:  -5 to +5\n",
    "In reality, this should give us priors of P(a_0) = 1/40. and p(a_1) = 1/10. for the relevant\n",
    " regions and P = 0 outside them.  However, these constant values cancel out in some sense\n",
    " since we are just doing a comparison of relative probabilities.  So, just set the priors\n",
    " to 1.0 in the \"good\" region.\n",
    "\"\"\"\n",
    "\n",
    "def lnprior(pars):\n",
    "    if -20. < pars[0] < 20. and -5. < pars[1] < 5.:\n",
    "        return 0.0 # Since log(1) = 0\n",
    "    else:\n",
    "        return -np.inf"
   ]
  },
  {
   "cell_type": "code",
   "execution_count": 5,
   "metadata": {
    "collapsed": false
   },
   "outputs": [],
   "source": [
    "\"\"\"\n",
    "Set up the unnormalized posterior probability function that is the product of the\n",
    "likelihood and the priors.\n",
    "\"\"\"\n",
    "\n",
    "def lnprob(pars, x, y, yerr):\n",
    "    lp = lnprior(pars)\n",
    "    if not np.isfinite(lp):\n",
    "        return -np.inf\n",
    "    return lp + lnlikelihood(pars, x, y, yerr)"
   ]
  },
  {
   "cell_type": "code",
   "execution_count": 6,
   "metadata": {
    "collapsed": false
   },
   "outputs": [],
   "source": [
    "\"\"\" Read in the data \"\"\"\n",
    "infile = '%s/lx_t.dat' % datadir\n",
    "data = ascii.read(infile,guess=False,format='commented_header')\n",
    "x = np.log10(data['L'].data)\n",
    "y = np.log10(data['T'].data)\n",
    "\"\"\" Set error, doing proper propagation of errors \"\"\"\n",
    "yerr = data['T_err'] / (data['T'] * log(10.))"
   ]
  },
  {
   "cell_type": "code",
   "execution_count": 7,
   "metadata": {
    "collapsed": false
   },
   "outputs": [
    {
     "ename": "NameError",
     "evalue": "name 'plot' is not defined",
     "output_type": "error",
     "traceback": [
      "\u001b[0;31m---------------------------------------------------------------------------\u001b[0m",
      "\u001b[0;31mNameError\u001b[0m                                 Traceback (most recent call last)",
      "\u001b[0;32m<ipython-input-7-ec03b1305d2b>\u001b[0m in \u001b[0;36m<module>\u001b[0;34m()\u001b[0m\n\u001b[1;32m      1\u001b[0m \u001b[0;34m\"\"\" Plot the data, just to make sure everything looks OK before starting \"\"\"\u001b[0m\u001b[0;34m\u001b[0m\u001b[0m\n\u001b[0;32m----> 2\u001b[0;31m \u001b[0mplot\u001b[0m\u001b[0;34m(\u001b[0m\u001b[0mx\u001b[0m\u001b[0;34m,\u001b[0m\u001b[0my\u001b[0m\u001b[0;34m,\u001b[0m\u001b[0;34m'bo'\u001b[0m\u001b[0;34m)\u001b[0m\u001b[0;34m\u001b[0m\u001b[0m\n\u001b[0m\u001b[1;32m      3\u001b[0m \u001b[0merrorbar\u001b[0m\u001b[0;34m(\u001b[0m\u001b[0mx\u001b[0m\u001b[0;34m,\u001b[0m\u001b[0my\u001b[0m\u001b[0;34m,\u001b[0m\u001b[0myerr\u001b[0m\u001b[0;34m,\u001b[0m\u001b[0mfmt\u001b[0m\u001b[0;34m=\u001b[0m\u001b[0;34m'none'\u001b[0m\u001b[0;34m)\u001b[0m\u001b[0;34m\u001b[0m\u001b[0m\n\u001b[1;32m      4\u001b[0m \u001b[0mylim\u001b[0m\u001b[0;34m(\u001b[0m\u001b[0;34m-\u001b[0m\u001b[0;36m0.5\u001b[0m\u001b[0;34m,\u001b[0m\u001b[0;36m3\u001b[0m\u001b[0;34m)\u001b[0m\u001b[0;34m\u001b[0m\u001b[0m\n",
      "\u001b[0;31mNameError\u001b[0m: name 'plot' is not defined"
     ]
    }
   ],
   "source": [
    "\"\"\" Plot the data, just to make sure everything looks OK before starting \"\"\"\n",
    "plot(x,y,'bo')\n",
    "errorbar(x,y,yerr,fmt='none')\n",
    "ylim(-0.5,3)"
   ]
  },
  {
   "cell_type": "code",
   "execution_count": 8,
   "metadata": {
    "collapsed": false
   },
   "outputs": [],
   "source": [
    "nwalkers = 200 # recommended number - gives number of independent chains\n",
    "ndims = 4      # since model has 2 params\n",
    "\n",
    "sampler = emcee.EnsembleSampler(nwalkers,ndims,lnprob,args=(x,y,yerr))\n",
    "\n",
    "\"\"\" \n",
    "Set the initial guesses for the parameters.\n",
    "There needs to be a different initial guess for each walker, which is why the call to\n",
    " np.random.random asks for nwalkers numbers\n",
    "NOTE: As this is set up below, both a0_0 and a1_1 are centered around 0.  This is actually\n",
    " not the appropriate way to proceed unless you have no idea of what the values of these\n",
    " parameters will be, as you can see if you read through the emcee documentation.  \n",
    " What you should do, instead, is center this random distribution of point around the expected\n",
    " value, e.g., what you would get from a maximum likelihood analysis.\n",
    " If you do have to start out at zero, look at the final posterior distribution.  If it is\n",
    " bimodal, with a peak at zero and a peak at some other value, then you need to increase the\n",
    " number of steps in your initial burn-in phase before running the final MCMC\n",
    "\"\"\"\n",
    "a0_0 = np.random.random(nwalkers)\n",
    "a1_0 = np.random.random(nwalkers)\n",
    "p0 = np.array([a0_0,a1_0]).T # makes two-column array\n"
   ]
  },
  {
   "cell_type": "code",
   "execution_count": 9,
   "metadata": {
    "collapsed": false
   },
   "outputs": [],
   "source": [
    "\"\"\" \n",
    "Take the initial guesses and then do a 'burn-in' to get the walkers to a better\n",
    "location in parameter space\n",
    "\"\"\"\n",
    "nburn = 200\n",
    "pos, prob, state = sampler.run_mcmc(p0, nburn)"
   ]
  },
  {
   "cell_type": "code",
   "execution_count": 10,
   "metadata": {
    "collapsed": false
   },
   "outputs": [],
   "source": [
    "\"\"\"\n",
    "Now run the MCMC for real.\n",
    "\"\"\"\n",
    "sampler.reset()\n",
    "niter = 1000\n",
    "mcmc = sampler.run_mcmc(pos, niter, rstate0=state)"
   ]
  },
  {
   "cell_type": "code",
   "execution_count": 13,
   "metadata": {
    "collapsed": false
   },
   "outputs": [
    {
     "name": "stdout",
     "output_type": "stream",
     "text": [
      "\n",
      "a0 = -11.34.\n",
      "  68 percent CL: -11.37 - -11.31\n",
      "\n"
     ]
    },
    {
     "data": {
      "image/png": "[encoded data removed]",
      "text/plain": [
       "<matplotlib.figure.Figure at 0x11542e490>"
      ]
     },
     "metadata": {},
     "output_type": "display_data"
    }
   ],
   "source": [
    "\"\"\"\n",
    "We're done, so see what the results look like.  To do this, we need to combine\n",
    " the nwalkers chains together.  Do this with the flatchain method.\n",
    " \n",
    "Start with a0, and plot it\n",
    "\"\"\"\n",
    "a0s = sampler.flatchain[:,0]\n",
    "tmp = plt.hist(a0s,bins=100,histtype='step')\n",
    "\n",
    "\"\"\" Estimate the 68% range, as well as the median point \"\"\"\n",
    "a0s.sort()\n",
    "a0m = a0s[int(0.16 * a0s.size)]\n",
    "a0p = a0s[int(0.84 * a0s.size)]\n",
    "a0med = a0s[int(0.5 * a0s.size)]\n",
    "axvline(a0m,color='k',linestyle='dashed')\n",
    "axvline(a0p,color='k',linestyle='dashed')\n",
    "axvline(a0med,color='k',linestyle='dashed')\n",
    "print ''\n",
    "print 'a0 = %6.2f.' % a0med\n",
    "print '  68 percent CL: %6.2f - %6.2f' % (a0m,a0p)\n",
    "print ''"
   ]
  },
  {
   "cell_type": "code",
   "execution_count": 14,
   "metadata": {
    "collapsed": false
   },
   "outputs": [
    {
     "name": "stdout",
     "output_type": "stream",
     "text": [
      "\n",
      "a1 =   0.2672.\n",
      "  68 percent CL:   0.2665 -   0.2679\n",
      "\n"
     ]
    },
    {
     "data": {
      "image/png": "[encoded data removed]",
      "text/plain": [
       "<matplotlib.figure.Figure at 0x112ec0e50>"
      ]
     },
     "metadata": {},
     "output_type": "display_data"
    }
   ],
   "source": [
    "\"\"\" Now do a1 \"\"\"\n",
    "a1s = sampler.flatchain[:,1]\n",
    "tmp = hist(a1s,bins=100,histtype='step')\n",
    "\n",
    "\"\"\" Estimate the 68% range, as well as the median point \"\"\"\n",
    "a1s.sort()\n",
    "a1m = a1s[int(0.16 * a1s.size)]\n",
    "a1p = a1s[int(0.84 * a1s.size)]\n",
    "a1med = a1s[int(0.5 * a1s.size)]\n",
    "axvline(a1m,color='k',linestyle='dashed')\n",
    "axvline(a1p,color='k',linestyle='dashed')\n",
    "axvline(a1med,color='k',linestyle='dashed')\n",
    "print ''\n",
    "print 'a1 = %8.4f.' % a1med\n",
    "print '  68 percent CL: %8.4f - %8.4f' % (a1m,a1p)\n",
    "print ''"
   ]
  },
  {
   "cell_type": "code",
   "execution_count": 15,
   "metadata": {
    "collapsed": false
   },
   "outputs": [
    {
     "data": {
      "text/plain": [
       "(-0.5, 2)"
      ]
     },
     "execution_count": 15,
     "metadata": {},
     "output_type": "execute_result"
    },
    {
     "data": {
      "image/png": "[encoded data removed]",
      "text/plain": [
       "<matplotlib.figure.Figure at 0x1154bc050>"
      ]
     },
     "metadata": {},
     "output_type": "display_data"
    }
   ],
   "source": [
    "\"\"\" Make a plot using the median values for a0 and a1 \"\"\"\n",
    "xmod = np.linspace(x.min(),x.max(),100)\n",
    "ymod = a0med + a1med * xmod\n",
    "plot(x,y,'bo')\n",
    "errorbar(x,y,yerr,fmt='none')\n",
    "plot(xmod,ymod,'r',lw=2)\n",
    "ylim(-0.5,2)"
   ]
  },
  {
   "cell_type": "code",
   "execution_count": 16,
   "metadata": {
    "collapsed": false
   },
   "outputs": [
    {
     "name": "stderr",
     "output_type": "stream",
     "text": [
      "/Users/cdf/anaconda/lib/python2.7/site-packages/matplotlib/collections.py:631: FutureWarning: elementwise comparison failed; returning scalar instead, but in the future will perform elementwise comparison\n",
      "  if self._edgecolors_original != str('face'):\n"
     ]
    },
    {
     "data": {
      "text/plain": [
       "<matplotlib.figure.Figure at 0x11681fe90>"
      ]
     },
     "metadata": {},
     "output_type": "display_data"
    },
    {
     "data": {
      "image/png": "[encoded data removed]",
      "text/plain": [
       "<matplotlib.figure.Figure at 0x11681f950>"
      ]
     },
     "metadata": {},
     "output_type": "display_data"
    }
   ],
   "source": [
    "\"\"\"\n",
    "Finally (although there is one non-used but possibly interesting bit of code at the end)\n",
    "make a nice plot using corner.py\n",
    "Often, after doing a MCMC analysis, a corner plot is the best way of presenting the results.\n",
    "Here, follow the syntax from the emcee page, but with some of the extra bells and whistles\n",
    "from the corner.py page\n",
    "\"\"\"\n",
    "samples = sampler.chain.reshape((-1,ndims))\n",
    "plt.figure(figsize=(9,9))\n",
    "fig = corner.corner(samples,labels=['a_0','a_1'],quantiles=[0.16, 0.5, 0.84],\n",
    "                    show_titles=True,title_kwargs={\"fontsize\": 14})"
   ]
  },
  {
   "cell_type": "code",
   "execution_count": 27,
   "metadata": {
    "collapsed": true
   },
   "outputs": [],
   "source": [
    "\"\"\"\n",
    "Set up a class that evaluates your model and returns a ln(likelihood)\n",
    "\n",
    "NOTE: This is an alternative way of doing things that may be slightly more elegant, but\n",
    " also slightly more confusing.  It is not actually used in the code above.\n",
    "\"\"\"\n",
    "\n",
    "class LinearModel(object):\n",
    "    \"\"\"\n",
    "    Does a simple fit of a line to the data.  \n",
    "    For this class, when you initialize it, you pass it your data as the\n",
    "     typical x, y, and error on y.\n",
    "    You could, of course, initialize it in a different way, e.g., by passing\n",
    "     it the name of the file that contained the data.\n",
    "    \"\"\"\n",
    "    def __init__(self,x,y,yerr):\n",
    "        \"\"\"\n",
    "        This method is used when you type something like:\n",
    "           foo = LinearModel(x,y,yerr)\n",
    "        and it creates an \"instance\" of this class that you can then use for\n",
    "        other things.\n",
    "        \"\"\"\n",
    "        self.x = x\n",
    "        self.y = y\n",
    "        self.yerr = yerr\n",
    "        \n",
    "    def __call__(self,pars):\n",
    "        \"\"\" \n",
    "        This method takes a set of parameters for a previously initialized\n",
    "        instance of the class and\n",
    "          (1) Creates a y_model from the parameters and the x array\n",
    "          (2) Calculates ln(L), which is just -chi^2 under the assumption of Gaussian\n",
    "              distributed errors\n",
    "          (3) returns ln(L) to the calling function\n",
    "        In looking at the code below, you can see that the model is\n",
    "           y_model = a_0 + a_1 x\n",
    "        and the pars array is set up to be pars = [a_0, a_1]\n",
    "        \"\"\"\n",
    "        y_model = pars[0] + pars[1]*self.x\n",
    "        logl = -(self.y -y_model)**2/self.yerr**2\n",
    "        return logl.sum()\n"
   ]
  },
  {
   "cell_type": "code",
   "execution_count": null,
   "metadata": {
    "collapsed": true
   },
   "outputs": [],
   "source": []
  }
 ],
 "metadata": {
  "anaconda-cloud": {},
  "kernelspec": {
   "display_name": "Python [Root]",
   "language": "python",
   "name": "Python [Root]"
  },
  "language_info": {
   "codemirror_mode": {
    "name": "ipython",
    "version": 2
   },
   "file_extension": ".py",
   "mimetype": "text/x-python",
   "name": "python",
   "nbconvert_exporter": "python",
   "pygments_lexer": "ipython2",
   "version": "2.7.12"
  }
 },
 "nbformat": 4,
 "nbformat_minor": 0
}
